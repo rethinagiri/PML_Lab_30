{
 "cells": [
  {
   "cell_type": "markdown",
   "metadata": {},
   "source": [
    "## NAME : RETHINAGIRI G\n",
    "## ROLL NO : 225229130\n",
    "## COURSE TITLE : PRACTICAL MACHINE LEARNING LAB"
   ]
  },
  {
   "cell_type": "markdown",
   "metadata": {},
   "source": [
    "### Lab 09. Employee Hopping Prediction using Random Forests"
   ]
  },
  {
   "cell_type": "markdown",
   "metadata": {},
   "source": [
    "###   "
   ]
  },
  {
   "cell_type": "markdown",
   "metadata": {},
   "source": [
    "#### Step-1"
   ]
  },
  {
   "cell_type": "code",
   "execution_count": 1,
   "metadata": {},
   "outputs": [],
   "source": [
    "import pandas as pan"
   ]
  },
  {
   "cell_type": "code",
   "execution_count": 2,
   "metadata": {},
   "outputs": [],
   "source": [
    "emp=pan.read_csv(\"C:\\\\Users\\\\user\\\\Downloads\\\\dataset_pml\\\\Employee_hopping.csv\")"
   ]
  },
  {
   "cell_type": "code",
   "execution_count": 3,
   "metadata": {},
   "outputs": [
    {
     "data": {
      "text/html": [
       "<div>\n",
       "<style scoped>\n",
       "    .dataframe tbody tr th:only-of-type {\n",
       "        vertical-align: middle;\n",
       "    }\n",
       "\n",
       "    .dataframe tbody tr th {\n",
       "        vertical-align: top;\n",
       "    }\n",
       "\n",
       "    .dataframe thead th {\n",
       "        text-align: right;\n",
       "    }\n",
       "</style>\n",
       "<table border=\"1\" class=\"dataframe\">\n",
       "  <thead>\n",
       "    <tr style=\"text-align: right;\">\n",
       "      <th></th>\n",
       "      <th>Age</th>\n",
       "      <th>Attrition</th>\n",
       "      <th>BusinessTravel</th>\n",
       "      <th>DailyRate</th>\n",
       "      <th>Department</th>\n",
       "      <th>DistanceFromHome</th>\n",
       "      <th>Education</th>\n",
       "      <th>EducationField</th>\n",
       "      <th>EmployeeCount</th>\n",
       "      <th>EmployeeNumber</th>\n",
       "      <th>...</th>\n",
       "      <th>RelationshipSatisfaction</th>\n",
       "      <th>StandardHours</th>\n",
       "      <th>StockOptionLevel</th>\n",
       "      <th>TotalWorkingYears</th>\n",
       "      <th>TrainingTimesLastYear</th>\n",
       "      <th>WorkLifeBalance</th>\n",
       "      <th>YearsAtCompany</th>\n",
       "      <th>YearsInCurrentRole</th>\n",
       "      <th>YearsSinceLastPromotion</th>\n",
       "      <th>YearsWithCurrManager</th>\n",
       "    </tr>\n",
       "  </thead>\n",
       "  <tbody>\n",
       "    <tr>\n",
       "      <th>0</th>\n",
       "      <td>41</td>\n",
       "      <td>Yes</td>\n",
       "      <td>Travel_Rarely</td>\n",
       "      <td>1102</td>\n",
       "      <td>Sales</td>\n",
       "      <td>1</td>\n",
       "      <td>2</td>\n",
       "      <td>Life Sciences</td>\n",
       "      <td>1</td>\n",
       "      <td>1</td>\n",
       "      <td>...</td>\n",
       "      <td>1</td>\n",
       "      <td>80</td>\n",
       "      <td>0</td>\n",
       "      <td>8</td>\n",
       "      <td>0</td>\n",
       "      <td>1</td>\n",
       "      <td>6</td>\n",
       "      <td>4</td>\n",
       "      <td>0</td>\n",
       "      <td>5</td>\n",
       "    </tr>\n",
       "    <tr>\n",
       "      <th>1</th>\n",
       "      <td>49</td>\n",
       "      <td>No</td>\n",
       "      <td>Travel_Frequently</td>\n",
       "      <td>279</td>\n",
       "      <td>Research &amp; Development</td>\n",
       "      <td>8</td>\n",
       "      <td>1</td>\n",
       "      <td>Life Sciences</td>\n",
       "      <td>1</td>\n",
       "      <td>2</td>\n",
       "      <td>...</td>\n",
       "      <td>4</td>\n",
       "      <td>80</td>\n",
       "      <td>1</td>\n",
       "      <td>10</td>\n",
       "      <td>3</td>\n",
       "      <td>3</td>\n",
       "      <td>10</td>\n",
       "      <td>7</td>\n",
       "      <td>1</td>\n",
       "      <td>7</td>\n",
       "    </tr>\n",
       "    <tr>\n",
       "      <th>2</th>\n",
       "      <td>37</td>\n",
       "      <td>Yes</td>\n",
       "      <td>Travel_Rarely</td>\n",
       "      <td>1373</td>\n",
       "      <td>Research &amp; Development</td>\n",
       "      <td>2</td>\n",
       "      <td>2</td>\n",
       "      <td>Other</td>\n",
       "      <td>1</td>\n",
       "      <td>4</td>\n",
       "      <td>...</td>\n",
       "      <td>2</td>\n",
       "      <td>80</td>\n",
       "      <td>0</td>\n",
       "      <td>7</td>\n",
       "      <td>3</td>\n",
       "      <td>3</td>\n",
       "      <td>0</td>\n",
       "      <td>0</td>\n",
       "      <td>0</td>\n",
       "      <td>0</td>\n",
       "    </tr>\n",
       "    <tr>\n",
       "      <th>3</th>\n",
       "      <td>33</td>\n",
       "      <td>No</td>\n",
       "      <td>Travel_Frequently</td>\n",
       "      <td>1392</td>\n",
       "      <td>Research &amp; Development</td>\n",
       "      <td>3</td>\n",
       "      <td>4</td>\n",
       "      <td>Life Sciences</td>\n",
       "      <td>1</td>\n",
       "      <td>5</td>\n",
       "      <td>...</td>\n",
       "      <td>3</td>\n",
       "      <td>80</td>\n",
       "      <td>0</td>\n",
       "      <td>8</td>\n",
       "      <td>3</td>\n",
       "      <td>3</td>\n",
       "      <td>8</td>\n",
       "      <td>7</td>\n",
       "      <td>3</td>\n",
       "      <td>0</td>\n",
       "    </tr>\n",
       "    <tr>\n",
       "      <th>4</th>\n",
       "      <td>27</td>\n",
       "      <td>No</td>\n",
       "      <td>Travel_Rarely</td>\n",
       "      <td>591</td>\n",
       "      <td>Research &amp; Development</td>\n",
       "      <td>2</td>\n",
       "      <td>1</td>\n",
       "      <td>Medical</td>\n",
       "      <td>1</td>\n",
       "      <td>7</td>\n",
       "      <td>...</td>\n",
       "      <td>4</td>\n",
       "      <td>80</td>\n",
       "      <td>1</td>\n",
       "      <td>6</td>\n",
       "      <td>3</td>\n",
       "      <td>3</td>\n",
       "      <td>2</td>\n",
       "      <td>2</td>\n",
       "      <td>2</td>\n",
       "      <td>2</td>\n",
       "    </tr>\n",
       "  </tbody>\n",
       "</table>\n",
       "<p>5 rows × 35 columns</p>\n",
       "</div>"
      ],
      "text/plain": [
       "   Age Attrition     BusinessTravel  DailyRate              Department  \\\n",
       "0   41       Yes      Travel_Rarely       1102                   Sales   \n",
       "1   49        No  Travel_Frequently        279  Research & Development   \n",
       "2   37       Yes      Travel_Rarely       1373  Research & Development   \n",
       "3   33        No  Travel_Frequently       1392  Research & Development   \n",
       "4   27        No      Travel_Rarely        591  Research & Development   \n",
       "\n",
       "   DistanceFromHome  Education EducationField  EmployeeCount  EmployeeNumber  \\\n",
       "0                 1          2  Life Sciences              1               1   \n",
       "1                 8          1  Life Sciences              1               2   \n",
       "2                 2          2          Other              1               4   \n",
       "3                 3          4  Life Sciences              1               5   \n",
       "4                 2          1        Medical              1               7   \n",
       "\n",
       "   ...  RelationshipSatisfaction StandardHours  StockOptionLevel  \\\n",
       "0  ...                         1            80                 0   \n",
       "1  ...                         4            80                 1   \n",
       "2  ...                         2            80                 0   \n",
       "3  ...                         3            80                 0   \n",
       "4  ...                         4            80                 1   \n",
       "\n",
       "   TotalWorkingYears  TrainingTimesLastYear WorkLifeBalance  YearsAtCompany  \\\n",
       "0                  8                      0               1               6   \n",
       "1                 10                      3               3              10   \n",
       "2                  7                      3               3               0   \n",
       "3                  8                      3               3               8   \n",
       "4                  6                      3               3               2   \n",
       "\n",
       "  YearsInCurrentRole  YearsSinceLastPromotion  YearsWithCurrManager  \n",
       "0                  4                        0                     5  \n",
       "1                  7                        1                     7  \n",
       "2                  0                        0                     0  \n",
       "3                  7                        3                     0  \n",
       "4                  2                        2                     2  \n",
       "\n",
       "[5 rows x 35 columns]"
      ]
     },
     "execution_count": 3,
     "metadata": {},
     "output_type": "execute_result"
    }
   ],
   "source": [
    "emp.head()"
   ]
  },
  {
   "cell_type": "code",
   "execution_count": 4,
   "metadata": {},
   "outputs": [
    {
     "data": {
      "text/plain": [
       "(1470, 35)"
      ]
     },
     "execution_count": 4,
     "metadata": {},
     "output_type": "execute_result"
    }
   ],
   "source": [
    "emp.shape"
   ]
  },
  {
   "cell_type": "code",
   "execution_count": 5,
   "metadata": {},
   "outputs": [
    {
     "data": {
      "text/plain": [
       "Index(['Age', 'Attrition', 'BusinessTravel', 'DailyRate', 'Department',\n",
       "       'DistanceFromHome', 'Education', 'EducationField', 'EmployeeCount',\n",
       "       'EmployeeNumber', 'EnvironmentSatisfaction', 'Gender', 'HourlyRate',\n",
       "       'JobInvolvement', 'JobLevel', 'JobRole', 'JobSatisfaction',\n",
       "       'MaritalStatus', 'MonthlyIncome', 'MonthlyRate', 'NumCompaniesWorked',\n",
       "       'Over18', 'OverTime', 'PercentSalaryHike', 'PerformanceRating',\n",
       "       'RelationshipSatisfaction', 'StandardHours', 'StockOptionLevel',\n",
       "       'TotalWorkingYears', 'TrainingTimesLastYear', 'WorkLifeBalance',\n",
       "       'YearsAtCompany', 'YearsInCurrentRole', 'YearsSinceLastPromotion',\n",
       "       'YearsWithCurrManager'],\n",
       "      dtype='object')"
      ]
     },
     "execution_count": 5,
     "metadata": {},
     "output_type": "execute_result"
    }
   ],
   "source": [
    "emp.columns"
   ]
  },
  {
   "cell_type": "code",
   "execution_count": 6,
   "metadata": {},
   "outputs": [
    {
     "data": {
      "text/plain": [
       "Age                          int64\n",
       "Attrition                   object\n",
       "BusinessTravel              object\n",
       "DailyRate                    int64\n",
       "Department                  object\n",
       "DistanceFromHome             int64\n",
       "Education                    int64\n",
       "EducationField              object\n",
       "EmployeeCount                int64\n",
       "EmployeeNumber               int64\n",
       "EnvironmentSatisfaction      int64\n",
       "Gender                      object\n",
       "HourlyRate                   int64\n",
       "JobInvolvement               int64\n",
       "JobLevel                     int64\n",
       "JobRole                     object\n",
       "JobSatisfaction              int64\n",
       "MaritalStatus               object\n",
       "MonthlyIncome                int64\n",
       "MonthlyRate                  int64\n",
       "NumCompaniesWorked           int64\n",
       "Over18                      object\n",
       "OverTime                    object\n",
       "PercentSalaryHike            int64\n",
       "PerformanceRating            int64\n",
       "RelationshipSatisfaction     int64\n",
       "StandardHours                int64\n",
       "StockOptionLevel             int64\n",
       "TotalWorkingYears            int64\n",
       "TrainingTimesLastYear        int64\n",
       "WorkLifeBalance              int64\n",
       "YearsAtCompany               int64\n",
       "YearsInCurrentRole           int64\n",
       "YearsSinceLastPromotion      int64\n",
       "YearsWithCurrManager         int64\n",
       "dtype: object"
      ]
     },
     "execution_count": 6,
     "metadata": {},
     "output_type": "execute_result"
    }
   ],
   "source": [
    "emp.dtypes"
   ]
  },
  {
   "cell_type": "code",
   "execution_count": 7,
   "metadata": {},
   "outputs": [
    {
     "name": "stdout",
     "output_type": "stream",
     "text": [
      "<class 'pandas.core.frame.DataFrame'>\n",
      "RangeIndex: 1470 entries, 0 to 1469\n",
      "Data columns (total 35 columns):\n",
      " #   Column                    Non-Null Count  Dtype \n",
      "---  ------                    --------------  ----- \n",
      " 0   Age                       1470 non-null   int64 \n",
      " 1   Attrition                 1470 non-null   object\n",
      " 2   BusinessTravel            1470 non-null   object\n",
      " 3   DailyRate                 1470 non-null   int64 \n",
      " 4   Department                1470 non-null   object\n",
      " 5   DistanceFromHome          1470 non-null   int64 \n",
      " 6   Education                 1470 non-null   int64 \n",
      " 7   EducationField            1470 non-null   object\n",
      " 8   EmployeeCount             1470 non-null   int64 \n",
      " 9   EmployeeNumber            1470 non-null   int64 \n",
      " 10  EnvironmentSatisfaction   1470 non-null   int64 \n",
      " 11  Gender                    1470 non-null   object\n",
      " 12  HourlyRate                1470 non-null   int64 \n",
      " 13  JobInvolvement            1470 non-null   int64 \n",
      " 14  JobLevel                  1470 non-null   int64 \n",
      " 15  JobRole                   1470 non-null   object\n",
      " 16  JobSatisfaction           1470 non-null   int64 \n",
      " 17  MaritalStatus             1470 non-null   object\n",
      " 18  MonthlyIncome             1470 non-null   int64 \n",
      " 19  MonthlyRate               1470 non-null   int64 \n",
      " 20  NumCompaniesWorked        1470 non-null   int64 \n",
      " 21  Over18                    1470 non-null   object\n",
      " 22  OverTime                  1470 non-null   object\n",
      " 23  PercentSalaryHike         1470 non-null   int64 \n",
      " 24  PerformanceRating         1470 non-null   int64 \n",
      " 25  RelationshipSatisfaction  1470 non-null   int64 \n",
      " 26  StandardHours             1470 non-null   int64 \n",
      " 27  StockOptionLevel          1470 non-null   int64 \n",
      " 28  TotalWorkingYears         1470 non-null   int64 \n",
      " 29  TrainingTimesLastYear     1470 non-null   int64 \n",
      " 30  WorkLifeBalance           1470 non-null   int64 \n",
      " 31  YearsAtCompany            1470 non-null   int64 \n",
      " 32  YearsInCurrentRole        1470 non-null   int64 \n",
      " 33  YearsSinceLastPromotion   1470 non-null   int64 \n",
      " 34  YearsWithCurrManager      1470 non-null   int64 \n",
      "dtypes: int64(26), object(9)\n",
      "memory usage: 402.1+ KB\n"
     ]
    }
   ],
   "source": [
    "emp.info()"
   ]
  },
  {
   "cell_type": "code",
   "execution_count": null,
   "metadata": {},
   "outputs": [],
   "source": [
    "emp[\"Age\"].value_counts()"
   ]
  },
  {
   "cell_type": "markdown",
   "metadata": {},
   "source": [
    "#### Step-2 [ Extract X and y]"
   ]
  },
  {
   "cell_type": "code",
   "execution_count": 9,
   "metadata": {},
   "outputs": [],
   "source": [
    "X=emp.drop(\"Attrition\",axis=1)"
   ]
  },
  {
   "cell_type": "code",
   "execution_count": 10,
   "metadata": {},
   "outputs": [],
   "source": [
    "y=emp[\"Attrition\"].values"
   ]
  },
  {
   "cell_type": "markdown",
   "metadata": {},
   "source": [
    "#### Step-3. [Feature Engineering]"
   ]
  },
  {
   "cell_type": "code",
   "execution_count": 11,
   "metadata": {},
   "outputs": [
    {
     "data": {
      "text/plain": [
       "Age                          int64\n",
       "Attrition                   object\n",
       "BusinessTravel              object\n",
       "DailyRate                    int64\n",
       "Department                  object\n",
       "DistanceFromHome             int64\n",
       "Education                    int64\n",
       "EducationField              object\n",
       "EmployeeCount                int64\n",
       "EmployeeNumber               int64\n",
       "EnvironmentSatisfaction      int64\n",
       "Gender                      object\n",
       "HourlyRate                   int64\n",
       "JobInvolvement               int64\n",
       "JobLevel                     int64\n",
       "JobRole                     object\n",
       "JobSatisfaction              int64\n",
       "MaritalStatus               object\n",
       "MonthlyIncome                int64\n",
       "MonthlyRate                  int64\n",
       "NumCompaniesWorked           int64\n",
       "Over18                      object\n",
       "OverTime                    object\n",
       "PercentSalaryHike            int64\n",
       "PerformanceRating            int64\n",
       "RelationshipSatisfaction     int64\n",
       "StandardHours                int64\n",
       "StockOptionLevel             int64\n",
       "TotalWorkingYears            int64\n",
       "TrainingTimesLastYear        int64\n",
       "WorkLifeBalance              int64\n",
       "YearsAtCompany               int64\n",
       "YearsInCurrentRole           int64\n",
       "YearsSinceLastPromotion      int64\n",
       "YearsWithCurrManager         int64\n",
       "dtype: object"
      ]
     },
     "execution_count": 11,
     "metadata": {},
     "output_type": "execute_result"
    }
   ],
   "source": [
    "emp.dtypes"
   ]
  },
  {
   "cell_type": "code",
   "execution_count": 12,
   "metadata": {},
   "outputs": [],
   "source": [
    "emp_dum=[\"BusinessTravel\",\"EducationField\",\"Department\",\"Gender\",\"JobRole\",\"MaritalStatus\",\"Over18\",\"OverTime\"]"
   ]
  },
  {
   "cell_type": "code",
   "execution_count": 13,
   "metadata": {},
   "outputs": [],
   "source": [
    "dummiesX = pan.get_dummies(X,columns=emp_dum)"
   ]
  },
  {
   "cell_type": "markdown",
   "metadata": {},
   "source": [
    "#### Step-4"
   ]
  },
  {
   "cell_type": "code",
   "execution_count": 14,
   "metadata": {},
   "outputs": [
    {
     "data": {
      "text/plain": [
       "(1470, 34)"
      ]
     },
     "execution_count": 14,
     "metadata": {},
     "output_type": "execute_result"
    }
   ],
   "source": [
    "X.shape"
   ]
  },
  {
   "cell_type": "code",
   "execution_count": 15,
   "metadata": {},
   "outputs": [
    {
     "data": {
      "text/plain": [
       "(1470,)"
      ]
     },
     "execution_count": 15,
     "metadata": {},
     "output_type": "execute_result"
    }
   ],
   "source": [
    "y.shape"
   ]
  },
  {
   "cell_type": "markdown",
   "metadata": {},
   "source": [
    "#### Step-5. [Model Development]"
   ]
  },
  {
   "cell_type": "code",
   "execution_count": 16,
   "metadata": {},
   "outputs": [],
   "source": [
    "from sklearn.model_selection import train_test_split as tts\n",
    "X_train,X_test,y_train,y_test=tts(dummiesX,y,test_size=.25,random_state=42)"
   ]
  },
  {
   "cell_type": "code",
   "execution_count": 17,
   "metadata": {},
   "outputs": [
    {
     "data": {
      "text/plain": [
       "RandomForestClassifier()"
      ]
     },
     "execution_count": 17,
     "metadata": {},
     "output_type": "execute_result"
    }
   ],
   "source": [
    "from sklearn.ensemble import RandomForestClassifier  \n",
    "rf= RandomForestClassifier()  \n",
    "rf.fit(X_train,y_train)"
   ]
  },
  {
   "cell_type": "code",
   "execution_count": 18,
   "metadata": {},
   "outputs": [],
   "source": [
    "y_pred=rf.predict(X_test)"
   ]
  },
  {
   "cell_type": "markdown",
   "metadata": {},
   "source": [
    "#### Step-6 [Testing]"
   ]
  },
  {
   "cell_type": "code",
   "execution_count": 19,
   "metadata": {},
   "outputs": [],
   "source": [
    "from sklearn.metrics import *"
   ]
  },
  {
   "cell_type": "code",
   "execution_count": 20,
   "metadata": {},
   "outputs": [
    {
     "data": {
      "text/plain": [
       "0.875"
      ]
     },
     "execution_count": 20,
     "metadata": {},
     "output_type": "execute_result"
    }
   ],
   "source": [
    "accuracy_score(y_test, y_pred)"
   ]
  },
  {
   "cell_type": "code",
   "execution_count": 21,
   "metadata": {},
   "outputs": [
    {
     "data": {
      "text/plain": [
       "'              precision    recall  f1-score   support\\n\\n          No       0.88      0.99      0.93       320\\n         Yes       0.67      0.08      0.15        48\\n\\n    accuracy                           0.88       368\\n   macro avg       0.77      0.54      0.54       368\\nweighted avg       0.85      0.88      0.83       368\\n'"
      ]
     },
     "execution_count": 21,
     "metadata": {},
     "output_type": "execute_result"
    }
   ],
   "source": [
    "classification_report(y_test,y_pred)"
   ]
  },
  {
   "cell_type": "markdown",
   "metadata": {},
   "source": [
    "#### Step-7 [Feature importance value]"
   ]
  },
  {
   "cell_type": "code",
   "execution_count": 22,
   "metadata": {},
   "outputs": [
    {
     "data": {
      "text/plain": [
       "array([0.05294513, 0.04406456, 0.04069169, 0.01695943, 0.        ,\n",
       "       0.04170964, 0.02478373, 0.03864302, 0.02144051, 0.02292761,\n",
       "       0.02427507, 0.07498255, 0.04305541, 0.03425137, 0.02740993,\n",
       "       0.00444482, 0.02104138, 0.        , 0.03156234, 0.04394259,\n",
       "       0.0243328 , 0.01817268, 0.04125906, 0.02905377, 0.02426619,\n",
       "       0.03073603, 0.00401763, 0.01021646, 0.00629047, 0.00216476,\n",
       "       0.00710982, 0.00650052, 0.00710521, 0.00377547, 0.00642365,\n",
       "       0.0017799 , 0.00623775, 0.00775653, 0.00673764, 0.0061964 ,\n",
       "       0.00144444, 0.00193078, 0.00962975, 0.00182065, 0.00180486,\n",
       "       0.0011617 , 0.00631082, 0.00818318, 0.0099643 , 0.00600414,\n",
       "       0.0072191 , 0.01658899, 0.        , 0.03530234, 0.03337146])"
      ]
     },
     "execution_count": 22,
     "metadata": {},
     "output_type": "execute_result"
    }
   ],
   "source": [
    "imp=rf.feature_importances_\n",
    "imp"
   ]
  },
  {
   "cell_type": "code",
   "execution_count": 23,
   "metadata": {},
   "outputs": [
    {
     "data": {
      "text/html": [
       "<div>\n",
       "<style scoped>\n",
       "    .dataframe tbody tr th:only-of-type {\n",
       "        vertical-align: middle;\n",
       "    }\n",
       "\n",
       "    .dataframe tbody tr th {\n",
       "        vertical-align: top;\n",
       "    }\n",
       "\n",
       "    .dataframe thead th {\n",
       "        text-align: right;\n",
       "    }\n",
       "</style>\n",
       "<table border=\"1\" class=\"dataframe\">\n",
       "  <thead>\n",
       "    <tr style=\"text-align: right;\">\n",
       "      <th></th>\n",
       "      <th>Feature Importance Values</th>\n",
       "    </tr>\n",
       "  </thead>\n",
       "  <tbody>\n",
       "    <tr>\n",
       "      <th>Age</th>\n",
       "      <td>0.052945</td>\n",
       "    </tr>\n",
       "    <tr>\n",
       "      <th>DailyRate</th>\n",
       "      <td>0.044065</td>\n",
       "    </tr>\n",
       "    <tr>\n",
       "      <th>DistanceFromHome</th>\n",
       "      <td>0.040692</td>\n",
       "    </tr>\n",
       "    <tr>\n",
       "      <th>Education</th>\n",
       "      <td>0.016959</td>\n",
       "    </tr>\n",
       "    <tr>\n",
       "      <th>EmployeeCount</th>\n",
       "      <td>0.000000</td>\n",
       "    </tr>\n",
       "    <tr>\n",
       "      <th>EmployeeNumber</th>\n",
       "      <td>0.041710</td>\n",
       "    </tr>\n",
       "    <tr>\n",
       "      <th>EnvironmentSatisfaction</th>\n",
       "      <td>0.024784</td>\n",
       "    </tr>\n",
       "    <tr>\n",
       "      <th>HourlyRate</th>\n",
       "      <td>0.038643</td>\n",
       "    </tr>\n",
       "    <tr>\n",
       "      <th>JobInvolvement</th>\n",
       "      <td>0.021441</td>\n",
       "    </tr>\n",
       "    <tr>\n",
       "      <th>JobLevel</th>\n",
       "      <td>0.022928</td>\n",
       "    </tr>\n",
       "    <tr>\n",
       "      <th>JobSatisfaction</th>\n",
       "      <td>0.024275</td>\n",
       "    </tr>\n",
       "    <tr>\n",
       "      <th>MonthlyIncome</th>\n",
       "      <td>0.074983</td>\n",
       "    </tr>\n",
       "    <tr>\n",
       "      <th>MonthlyRate</th>\n",
       "      <td>0.043055</td>\n",
       "    </tr>\n",
       "    <tr>\n",
       "      <th>NumCompaniesWorked</th>\n",
       "      <td>0.034251</td>\n",
       "    </tr>\n",
       "    <tr>\n",
       "      <th>PercentSalaryHike</th>\n",
       "      <td>0.027410</td>\n",
       "    </tr>\n",
       "    <tr>\n",
       "      <th>PerformanceRating</th>\n",
       "      <td>0.004445</td>\n",
       "    </tr>\n",
       "    <tr>\n",
       "      <th>RelationshipSatisfaction</th>\n",
       "      <td>0.021041</td>\n",
       "    </tr>\n",
       "    <tr>\n",
       "      <th>StandardHours</th>\n",
       "      <td>0.000000</td>\n",
       "    </tr>\n",
       "    <tr>\n",
       "      <th>StockOptionLevel</th>\n",
       "      <td>0.031562</td>\n",
       "    </tr>\n",
       "    <tr>\n",
       "      <th>TotalWorkingYears</th>\n",
       "      <td>0.043943</td>\n",
       "    </tr>\n",
       "    <tr>\n",
       "      <th>TrainingTimesLastYear</th>\n",
       "      <td>0.024333</td>\n",
       "    </tr>\n",
       "    <tr>\n",
       "      <th>WorkLifeBalance</th>\n",
       "      <td>0.018173</td>\n",
       "    </tr>\n",
       "    <tr>\n",
       "      <th>YearsAtCompany</th>\n",
       "      <td>0.041259</td>\n",
       "    </tr>\n",
       "    <tr>\n",
       "      <th>YearsInCurrentRole</th>\n",
       "      <td>0.029054</td>\n",
       "    </tr>\n",
       "    <tr>\n",
       "      <th>YearsSinceLastPromotion</th>\n",
       "      <td>0.024266</td>\n",
       "    </tr>\n",
       "    <tr>\n",
       "      <th>YearsWithCurrManager</th>\n",
       "      <td>0.030736</td>\n",
       "    </tr>\n",
       "    <tr>\n",
       "      <th>BusinessTravel_Non-Travel</th>\n",
       "      <td>0.004018</td>\n",
       "    </tr>\n",
       "    <tr>\n",
       "      <th>BusinessTravel_Travel_Frequently</th>\n",
       "      <td>0.010216</td>\n",
       "    </tr>\n",
       "    <tr>\n",
       "      <th>BusinessTravel_Travel_Rarely</th>\n",
       "      <td>0.006290</td>\n",
       "    </tr>\n",
       "    <tr>\n",
       "      <th>EducationField_Human Resources</th>\n",
       "      <td>0.002165</td>\n",
       "    </tr>\n",
       "    <tr>\n",
       "      <th>EducationField_Life Sciences</th>\n",
       "      <td>0.007110</td>\n",
       "    </tr>\n",
       "    <tr>\n",
       "      <th>EducationField_Marketing</th>\n",
       "      <td>0.006501</td>\n",
       "    </tr>\n",
       "    <tr>\n",
       "      <th>EducationField_Medical</th>\n",
       "      <td>0.007105</td>\n",
       "    </tr>\n",
       "    <tr>\n",
       "      <th>EducationField_Other</th>\n",
       "      <td>0.003775</td>\n",
       "    </tr>\n",
       "    <tr>\n",
       "      <th>EducationField_Technical Degree</th>\n",
       "      <td>0.006424</td>\n",
       "    </tr>\n",
       "    <tr>\n",
       "      <th>Department_Human Resources</th>\n",
       "      <td>0.001780</td>\n",
       "    </tr>\n",
       "    <tr>\n",
       "      <th>Department_Research &amp; Development</th>\n",
       "      <td>0.006238</td>\n",
       "    </tr>\n",
       "    <tr>\n",
       "      <th>Department_Sales</th>\n",
       "      <td>0.007757</td>\n",
       "    </tr>\n",
       "    <tr>\n",
       "      <th>Gender_Female</th>\n",
       "      <td>0.006738</td>\n",
       "    </tr>\n",
       "    <tr>\n",
       "      <th>Gender_Male</th>\n",
       "      <td>0.006196</td>\n",
       "    </tr>\n",
       "    <tr>\n",
       "      <th>JobRole_Healthcare Representative</th>\n",
       "      <td>0.001444</td>\n",
       "    </tr>\n",
       "    <tr>\n",
       "      <th>JobRole_Human Resources</th>\n",
       "      <td>0.001931</td>\n",
       "    </tr>\n",
       "    <tr>\n",
       "      <th>JobRole_Laboratory Technician</th>\n",
       "      <td>0.009630</td>\n",
       "    </tr>\n",
       "    <tr>\n",
       "      <th>JobRole_Manager</th>\n",
       "      <td>0.001821</td>\n",
       "    </tr>\n",
       "    <tr>\n",
       "      <th>JobRole_Manufacturing Director</th>\n",
       "      <td>0.001805</td>\n",
       "    </tr>\n",
       "    <tr>\n",
       "      <th>JobRole_Research Director</th>\n",
       "      <td>0.001162</td>\n",
       "    </tr>\n",
       "    <tr>\n",
       "      <th>JobRole_Research Scientist</th>\n",
       "      <td>0.006311</td>\n",
       "    </tr>\n",
       "    <tr>\n",
       "      <th>JobRole_Sales Executive</th>\n",
       "      <td>0.008183</td>\n",
       "    </tr>\n",
       "    <tr>\n",
       "      <th>JobRole_Sales Representative</th>\n",
       "      <td>0.009964</td>\n",
       "    </tr>\n",
       "    <tr>\n",
       "      <th>MaritalStatus_Divorced</th>\n",
       "      <td>0.006004</td>\n",
       "    </tr>\n",
       "    <tr>\n",
       "      <th>MaritalStatus_Married</th>\n",
       "      <td>0.007219</td>\n",
       "    </tr>\n",
       "    <tr>\n",
       "      <th>MaritalStatus_Single</th>\n",
       "      <td>0.016589</td>\n",
       "    </tr>\n",
       "    <tr>\n",
       "      <th>Over18_Y</th>\n",
       "      <td>0.000000</td>\n",
       "    </tr>\n",
       "    <tr>\n",
       "      <th>OverTime_No</th>\n",
       "      <td>0.035302</td>\n",
       "    </tr>\n",
       "    <tr>\n",
       "      <th>OverTime_Yes</th>\n",
       "      <td>0.033371</td>\n",
       "    </tr>\n",
       "  </tbody>\n",
       "</table>\n",
       "</div>"
      ],
      "text/plain": [
       "                                   Feature Importance Values\n",
       "Age                                                 0.052945\n",
       "DailyRate                                           0.044065\n",
       "DistanceFromHome                                    0.040692\n",
       "Education                                           0.016959\n",
       "EmployeeCount                                       0.000000\n",
       "EmployeeNumber                                      0.041710\n",
       "EnvironmentSatisfaction                             0.024784\n",
       "HourlyRate                                          0.038643\n",
       "JobInvolvement                                      0.021441\n",
       "JobLevel                                            0.022928\n",
       "JobSatisfaction                                     0.024275\n",
       "MonthlyIncome                                       0.074983\n",
       "MonthlyRate                                         0.043055\n",
       "NumCompaniesWorked                                  0.034251\n",
       "PercentSalaryHike                                   0.027410\n",
       "PerformanceRating                                   0.004445\n",
       "RelationshipSatisfaction                            0.021041\n",
       "StandardHours                                       0.000000\n",
       "StockOptionLevel                                    0.031562\n",
       "TotalWorkingYears                                   0.043943\n",
       "TrainingTimesLastYear                               0.024333\n",
       "WorkLifeBalance                                     0.018173\n",
       "YearsAtCompany                                      0.041259\n",
       "YearsInCurrentRole                                  0.029054\n",
       "YearsSinceLastPromotion                             0.024266\n",
       "YearsWithCurrManager                                0.030736\n",
       "BusinessTravel_Non-Travel                           0.004018\n",
       "BusinessTravel_Travel_Frequently                    0.010216\n",
       "BusinessTravel_Travel_Rarely                        0.006290\n",
       "EducationField_Human Resources                      0.002165\n",
       "EducationField_Life Sciences                        0.007110\n",
       "EducationField_Marketing                            0.006501\n",
       "EducationField_Medical                              0.007105\n",
       "EducationField_Other                                0.003775\n",
       "EducationField_Technical Degree                     0.006424\n",
       "Department_Human Resources                          0.001780\n",
       "Department_Research & Development                   0.006238\n",
       "Department_Sales                                    0.007757\n",
       "Gender_Female                                       0.006738\n",
       "Gender_Male                                         0.006196\n",
       "JobRole_Healthcare Representative                   0.001444\n",
       "JobRole_Human Resources                             0.001931\n",
       "JobRole_Laboratory Technician                       0.009630\n",
       "JobRole_Manager                                     0.001821\n",
       "JobRole_Manufacturing Director                      0.001805\n",
       "JobRole_Research Director                           0.001162\n",
       "JobRole_Research Scientist                          0.006311\n",
       "JobRole_Sales Executive                             0.008183\n",
       "JobRole_Sales Representative                        0.009964\n",
       "MaritalStatus_Divorced                              0.006004\n",
       "MaritalStatus_Married                               0.007219\n",
       "MaritalStatus_Single                                0.016589\n",
       "Over18_Y                                            0.000000\n",
       "OverTime_No                                         0.035302\n",
       "OverTime_Yes                                        0.033371"
      ]
     },
     "execution_count": 23,
     "metadata": {},
     "output_type": "execute_result"
    }
   ],
   "source": [
    "f_name=pan.DataFrame(imp,index=X_train.columns,columns=[\"Feature Importance Values\"])\n",
    "f_name"
   ]
  },
  {
   "cell_type": "code",
   "execution_count": 24,
   "metadata": {},
   "outputs": [],
   "source": [
    "import matplotlib.pyplot as mat"
   ]
  },
  {
   "cell_type": "code",
   "execution_count": 25,
   "metadata": {},
   "outputs": [],
   "source": [
    "import seaborn as sb"
   ]
  },
  {
   "cell_type": "code",
   "execution_count": 26,
   "metadata": {},
   "outputs": [
    {
     "data": {
      "text/plain": [
       "Text(0, 0.5, 'Imp_Values')"
      ]
     },
     "execution_count": 26,
     "metadata": {},
     "output_type": "execute_result"
    },
    {
     "data": {
      "image/png": "[encoded data removed]",
      "text/plain": [
       "<Figure size 1440x720 with 1 Axes>"
      ]
     },
     "metadata": {
      "needs_background": "light"
     },
     "output_type": "display_data"
    }
   ],
   "source": [
    "mat.figure(figsize=(20,10))\n",
    "sb.barplot(x=f_name.index,y=f_name[\"Feature Importance Values\"])\n",
    "mat.xticks(rotation=75)\n",
    "mat.xlabel(\"Names\")\n",
    "mat.ylabel(\"Imp_Values\")"
   ]
  },
  {
   "cell_type": "markdown",
   "metadata": {},
   "source": [
    "#### Step-8 [Visualize  your RF Decision Tree using graphviz]"
   ]
  },
  {
   "cell_type": "code",
   "execution_count": 27,
   "metadata": {},
   "outputs": [],
   "source": [
    "from sklearn import tree\n",
    "rfc = RandomForestClassifier(n_estimators=10, random_state=42)\n",
    "rfc.fit(X_train, y_train)\n",
    "tree = rfc.estimators_[0]\n",
    "from sklearn.tree import export_graphviz\n",
    "with open(\"tree1.dot\", \"w\") as f:\n",
    "    f= export_graphviz(rfc.estimators_[0], out_file=None, \n",
    "                           feature_names=X_train.columns, \n",
    "                           class_names=['No', 'Yes'], \n",
    "                           filled=True, rounded=True, \n",
    "                           special_characters=True)"
   ]
  },
  {
   "cell_type": "code",
   "execution_count": 28,
   "metadata": {},
   "outputs": [],
   "source": [
    "!type tree1.dot"
   ]
  },
  {
   "cell_type": "markdown",
   "metadata": {},
   "source": [
    "#### Step-09"
   ]
  },
  {
   "cell_type": "code",
   "execution_count": 29,
   "metadata": {},
   "outputs": [],
   "source": [
    "rf2=RandomForestClassifier(oob_score=True,\n",
    "                          random_state=42,\n",
    "                          warm_start=True,\n",
    "                          n_jobs=-1)\n",
    "oob_list=list()"
   ]
  },
  {
   "cell_type": "code",
   "execution_count": 30,
   "metadata": {},
   "outputs": [
    {
     "name": "stderr",
     "output_type": "stream",
     "text": [
      "C:\\Users\\user\\anaconda3\\lib\\site-packages\\sklearn\\ensemble\\_forest.py:560: UserWarning: Some inputs do not have OOB scores. This probably means too few trees were used to compute any reliable OOB estimates.\n",
      "  warn(\n",
      "C:\\Users\\user\\anaconda3\\lib\\site-packages\\sklearn\\ensemble\\_forest.py:560: UserWarning: Some inputs do not have OOB scores. This probably means too few trees were used to compute any reliable OOB estimates.\n",
      "  warn(\n"
     ]
    },
    {
     "data": {
      "text/html": [
       "<div>\n",
       "<style scoped>\n",
       "    .dataframe tbody tr th:only-of-type {\n",
       "        vertical-align: middle;\n",
       "    }\n",
       "\n",
       "    .dataframe tbody tr th {\n",
       "        vertical-align: top;\n",
       "    }\n",
       "\n",
       "    .dataframe thead th {\n",
       "        text-align: right;\n",
       "    }\n",
       "</style>\n",
       "<table border=\"1\" class=\"dataframe\">\n",
       "  <thead>\n",
       "    <tr style=\"text-align: right;\">\n",
       "      <th></th>\n",
       "      <th>oob</th>\n",
       "    </tr>\n",
       "    <tr>\n",
       "      <th>n_trees</th>\n",
       "      <th></th>\n",
       "    </tr>\n",
       "  </thead>\n",
       "  <tbody>\n",
       "    <tr>\n",
       "      <th>15.0</th>\n",
       "      <td>0.160617</td>\n",
       "    </tr>\n",
       "    <tr>\n",
       "      <th>20.0</th>\n",
       "      <td>0.153358</td>\n",
       "    </tr>\n",
       "    <tr>\n",
       "      <th>30.0</th>\n",
       "      <td>0.144283</td>\n",
       "    </tr>\n",
       "    <tr>\n",
       "      <th>40.0</th>\n",
       "      <td>0.141561</td>\n",
       "    </tr>\n",
       "    <tr>\n",
       "      <th>50.0</th>\n",
       "      <td>0.144283</td>\n",
       "    </tr>\n",
       "    <tr>\n",
       "      <th>100.0</th>\n",
       "      <td>0.144283</td>\n",
       "    </tr>\n",
       "    <tr>\n",
       "      <th>150.0</th>\n",
       "      <td>0.143376</td>\n",
       "    </tr>\n",
       "    <tr>\n",
       "      <th>200.0</th>\n",
       "      <td>0.142468</td>\n",
       "    </tr>\n",
       "    <tr>\n",
       "      <th>300.0</th>\n",
       "      <td>0.142468</td>\n",
       "    </tr>\n",
       "    <tr>\n",
       "      <th>400.0</th>\n",
       "      <td>0.145191</td>\n",
       "    </tr>\n",
       "  </tbody>\n",
       "</table>\n",
       "</div>"
      ],
      "text/plain": [
       "              oob\n",
       "n_trees          \n",
       "15.0     0.160617\n",
       "20.0     0.153358\n",
       "30.0     0.144283\n",
       "40.0     0.141561\n",
       "50.0     0.144283\n",
       "100.0    0.144283\n",
       "150.0    0.143376\n",
       "200.0    0.142468\n",
       "300.0    0.142468\n",
       "400.0    0.145191"
      ]
     },
     "execution_count": 30,
     "metadata": {},
     "output_type": "execute_result"
    }
   ],
   "source": [
    "for n_trees in [15,20,30,40,50,100,150,200,300,400]:\n",
    "    rf2.set_params(n_estimators=n_trees)\n",
    "    \n",
    "    rf2.fit(X_train,y_train)\n",
    "    \n",
    "    oob_error=1-rf2.oob_score_\n",
    "    \n",
    "    oob_list.append(pan.Series({'n_trees':n_trees,'oob':oob_error}))\n",
    "    \n",
    "    \n",
    "    \n",
    "rf_oob_df=pan.concat(oob_list,axis=1).T.set_index('n_trees')\n",
    "\n",
    "rf_oob_df"
   ]
  },
  {
   "cell_type": "code",
   "execution_count": null,
   "metadata": {},
   "outputs": [],
   "source": []
  },
  {
   "cell_type": "markdown",
   "metadata": {},
   "source": [
    "#### Step-10"
   ]
  },
  {
   "cell_type": "code",
   "execution_count": 31,
   "metadata": {},
   "outputs": [
    {
     "data": {
      "text/plain": [
       "[Text(0, 0.5, 'out-of-bag erroe')]"
      ]
     },
     "execution_count": 31,
     "metadata": {},
     "output_type": "execute_result"
    },
    {
     "data": {
      "image/png": "[encoded data removed]",
      "text/plain": [
       "<Figure size 720x360 with 1 Axes>"
      ]
     },
     "metadata": {
      "needs_background": "light"
     },
     "output_type": "display_data"
    }
   ],
   "source": [
    "ax=rf_oob_df.plot(legend=False,marker='o',figsize=(10,5))\n",
    "ax.set(ylabel='out-of-bag erroe')"
   ]
  },
  {
   "cell_type": "markdown",
   "metadata": {},
   "source": [
    "#### Step-11  [  DecisionTreeClassifier ]"
   ]
  },
  {
   "cell_type": "code",
   "execution_count": 32,
   "metadata": {},
   "outputs": [],
   "source": [
    "from sklearn.tree import DecisionTreeClassifier, export_graphviz\n",
    "from sklearn.metrics import*"
   ]
  },
  {
   "cell_type": "code",
   "execution_count": 33,
   "metadata": {},
   "outputs": [],
   "source": [
    "dt = DecisionTreeClassifier(criterion='entropy')"
   ]
  },
  {
   "cell_type": "code",
   "execution_count": 34,
   "metadata": {},
   "outputs": [],
   "source": [
    "dt.fit(X_train, y_train)\n",
    "\n",
    "\n",
    "y_pred = dt.predict(X_test)"
   ]
  },
  {
   "cell_type": "code",
   "execution_count": 37,
   "metadata": {},
   "outputs": [
    {
     "data": {
      "text/plain": [
       "DecisionTreeClassifier(criterion='entropy')"
      ]
     },
     "execution_count": 37,
     "metadata": {},
     "output_type": "execute_result"
    }
   ],
   "source": [
    "from sklearn.tree import DecisionTreeClassifier\n",
    "import sklearn.tree as tree\n",
    "\n",
    "clf = DecisionTreeClassifier(criterion='entropy')\n",
    "clf.fit(X_train, y_train)\n",
    "\n",
    "\n"
   ]
  },
  {
   "cell_type": "code",
   "execution_count": 38,
   "metadata": {},
   "outputs": [],
   "source": [
    "with open(\"tree2.dot\", \"w\") as f:\n",
    "    f = tree.export_graphviz(clf, out_file=f, max_depth=5, impurity=False, \n",
    "                             feature_names=X_train.columns.values, \n",
    "                             class_names=[\"Yes\", \"No\"], filled=True)"
   ]
  },
  {
   "cell_type": "code",
   "execution_count": 39,
   "metadata": {},
   "outputs": [
    {
     "name": "stdout",
     "output_type": "stream",
     "text": [
      "digraph Tree {\n",
      "node [shape=box, style=\"filled\", color=\"black\", fontname=\"helvetica\"] ;\n",
      "edge [fontname=\"helvetica\"] ;\n",
      "0 [label=\"OverTime_Yes <= 0.5\\nsamples = 1102\\nvalue = [913, 189]\\nclass = Yes\", fillcolor=\"#ea9b62\"] ;\n",
      "1 [label=\"TotalWorkingYears <= 2.5\\nsamples = 780\\nvalue = [698, 82]\\nclass = Yes\", fillcolor=\"#e89050\"] ;\n",
      "0 -> 1 [labeldistance=2.5, labelangle=45, headlabel=\"True\"] ;\n",
      "2 [label=\"JobRole_Research Scientist <= 0.5\\nsamples = 71\\nvalue = [46, 25]\\nclass = Yes\", fillcolor=\"#f3c5a5\"] ;\n",
      "1 -> 2 ;\n",
      "3 [label=\"HourlyRate <= 58.5\\nsamples = 51\\nvalue = [28, 23]\\nclass = Yes\", fillcolor=\"#fae8dc\"] ;\n",
      "2 -> 3 ;\n",
      "4 [label=\"EnvironmentSatisfaction <= 2.5\\nsamples = 18\\nvalue = [5, 13]\\nclass = No\", fillcolor=\"#85c3ef\"] ;\n",
      "3 -> 4 ;\n",
      "5 [label=\"samples = 9\\nvalue = [0, 9]\\nclass = No\", fillcolor=\"#399de5\"] ;\n",
      "4 -> 5 ;\n",
      "6 [label=\"MonthlyIncome <= 2192.5\\nsamples = 9\\nvalue = [5, 4]\\nclass = Yes\", fillcolor=\"#fae6d7\"] ;\n",
      "4 -> 6 ;\n",
      "7 [label=\"(...)\", fillcolor=\"#C0C0C0\"] ;\n",
      "6 -> 7 ;\n",
      "10 [label=\"(...)\", fillcolor=\"#C0C0C0\"] ;\n",
      "6 -> 10 ;\n",
      "11 [label=\"Education <= 3.5\\nsamples = 33\\nvalue = [23, 10]\\nclass = Yes\", fillcolor=\"#f0b88f\"] ;\n",
      "3 -> 11 ;\n",
      "12 [label=\"DailyRate <= 1037.0\\nsamples = 30\\nvalue = [23, 7]\\nclass = Yes\", fillcolor=\"#eda775\"] ;\n",
      "11 -> 12 ;\n",
      "13 [label=\"(...)\", fillcolor=\"#C0C0C0\"] ;\n",
      "12 -> 13 ;\n",
      "24 [label=\"(...)\", fillcolor=\"#C0C0C0\"] ;\n",
      "12 -> 24 ;\n",
      "25 [label=\"samples = 3\\nvalue = [0, 3]\\nclass = No\", fillcolor=\"#399de5\"] ;\n",
      "11 -> 25 ;\n",
      "26 [label=\"HourlyRate <= 34.5\\nsamples = 20\\nvalue = [18, 2]\\nclass = Yes\", fillcolor=\"#e88f4f\"] ;\n",
      "2 -> 26 ;\n",
      "27 [label=\"samples = 1\\nvalue = [0, 1]\\nclass = No\", fillcolor=\"#399de5\"] ;\n",
      "26 -> 27 ;\n",
      "28 [label=\"EducationField_Other <= 0.5\\nsamples = 19\\nvalue = [18, 1]\\nclass = Yes\", fillcolor=\"#e68844\"] ;\n",
      "26 -> 28 ;\n",
      "29 [label=\"samples = 18\\nvalue = [18, 0]\\nclass = Yes\", fillcolor=\"#e58139\"] ;\n",
      "28 -> 29 ;\n",
      "30 [label=\"samples = 1\\nvalue = [0, 1]\\nclass = No\", fillcolor=\"#399de5\"] ;\n",
      "28 -> 30 ;\n",
      "31 [label=\"StockOptionLevel <= 0.5\\nsamples = 709\\nvalue = [652, 57]\\nclass = Yes\", fillcolor=\"#e78c4a\"] ;\n",
      "1 -> 31 ;\n",
      "32 [label=\"JobSatisfaction <= 1.5\\nsamples = 270\\nvalue = [235, 35]\\nclass = Yes\", fillcolor=\"#e99456\"] ;\n",
      "31 -> 32 ;\n",
      "33 [label=\"DistanceFromHome <= 8.5\\nsamples = 52\\nvalue = [37, 15]\\nclass = Yes\", fillcolor=\"#f0b489\"] ;\n",
      "32 -> 33 ;\n",
      "34 [label=\"MonthlyIncome <= 3192.0\\nsamples = 33\\nvalue = [29, 4]\\nclass = Yes\", fillcolor=\"#e99254\"] ;\n",
      "33 -> 34 ;\n",
      "35 [label=\"(...)\", fillcolor=\"#C0C0C0\"] ;\n",
      "34 -> 35 ;\n",
      "42 [label=\"(...)\", fillcolor=\"#C0C0C0\"] ;\n",
      "34 -> 42 ;\n",
      "43 [label=\"DistanceFromHome <= 10.5\\nsamples = 19\\nvalue = [8, 11]\\nclass = No\", fillcolor=\"#c9e4f8\"] ;\n",
      "33 -> 43 ;\n",
      "44 [label=\"(...)\", fillcolor=\"#C0C0C0\"] ;\n",
      "43 -> 44 ;\n",
      "45 [label=\"(...)\", fillcolor=\"#C0C0C0\"] ;\n",
      "43 -> 45 ;\n",
      "50 [label=\"PercentSalaryHike <= 18.5\\nsamples = 218\\nvalue = [198, 20]\\nclass = Yes\", fillcolor=\"#e88e4d\"] ;\n",
      "32 -> 50 ;\n",
      "51 [label=\"YearsInCurrentRole <= 2.5\\nsamples = 176\\nvalue = [156, 20]\\nclass = Yes\", fillcolor=\"#e89152\"] ;\n",
      "50 -> 51 ;\n",
      "52 [label=\"(...)\", fillcolor=\"#C0C0C0\"] ;\n",
      "51 -> 52 ;\n",
      "75 [label=\"(...)\", fillcolor=\"#C0C0C0\"] ;\n",
      "51 -> 75 ;\n",
      "84 [label=\"samples = 42\\nvalue = [42, 0]\\nclass = Yes\", fillcolor=\"#e58139\"] ;\n",
      "50 -> 84 ;\n",
      "85 [label=\"YearsAtCompany <= 31.5\\nsamples = 439\\nvalue = [417, 22]\\nclass = Yes\", fillcolor=\"#e68843\"] ;\n",
      "31 -> 85 ;\n",
      "86 [label=\"MonthlyIncome <= 10492.0\\nsamples = 434\\nvalue = [415, 19]\\nclass = Yes\", fillcolor=\"#e68742\"] ;\n",
      "85 -> 86 ;\n",
      "87 [label=\"JobRole_Research Scientist <= 0.5\\nsamples = 349\\nvalue = [330, 19]\\nclass = Yes\", fillcolor=\"#e68844\"] ;\n",
      "86 -> 87 ;\n",
      "88 [label=\"(...)\", fillcolor=\"#C0C0C0\"] ;\n",
      "87 -> 88 ;\n",
      "137 [label=\"(...)\", fillcolor=\"#C0C0C0\"] ;\n",
      "87 -> 137 ;\n",
      "138 [label=\"samples = 85\\nvalue = [85, 0]\\nclass = Yes\", fillcolor=\"#e58139\"] ;\n",
      "86 -> 138 ;\n",
      "139 [label=\"DailyRate <= 653.0\\nsamples = 5\\nvalue = [2, 3]\\nclass = No\", fillcolor=\"#bddef6\"] ;\n",
      "85 -> 139 ;\n",
      "140 [label=\"samples = 3\\nvalue = [0, 3]\\nclass = No\", fillcolor=\"#399de5\"] ;\n",
      "139 -> 140 ;\n",
      "141 [label=\"samples = 2\\nvalue = [2, 0]\\nclass = Yes\", fillcolor=\"#e58139\"] ;\n",
      "139 -> 141 ;\n",
      "142 [label=\"MonthlyIncome <= 2475.0\\nsamples = 322\\nvalue = [215, 107]\\nclass = Yes\", fillcolor=\"#f2c09c\"] ;\n",
      "0 -> 142 [labeldistance=2.5, labelangle=-45, headlabel=\"False\"] ;\n",
      "143 [label=\"DailyRate <= 486.0\\nsamples = 63\\nvalue = [16, 47]\\nclass = No\", fillcolor=\"#7cbeee\"] ;\n",
      "142 -> 143 ;\n",
      "144 [label=\"samples = 18\\nvalue = [0, 18]\\nclass = No\", fillcolor=\"#399de5\"] ;\n",
      "143 -> 144 ;\n",
      "145 [label=\"DistanceFromHome <= 15.5\\nsamples = 45\\nvalue = [16, 29]\\nclass = No\", fillcolor=\"#a6d3f3\"] ;\n",
      "143 -> 145 ;\n",
      "146 [label=\"EmployeeNumber <= 1816.5\\nsamples = 36\\nvalue = [16, 20]\\nclass = No\", fillcolor=\"#d7ebfa\"] ;\n",
      "145 -> 146 ;\n",
      "147 [label=\"JobRole_Laboratory Technician <= 0.5\\nsamples = 31\\nvalue = [11, 20]\\nclass = No\", fillcolor=\"#a6d3f3\"] ;\n",
      "146 -> 147 ;\n",
      "148 [label=\"(...)\", fillcolor=\"#C0C0C0\"] ;\n",
      "147 -> 148 ;\n",
      "159 [label=\"(...)\", fillcolor=\"#C0C0C0\"] ;\n",
      "147 -> 159 ;\n",
      "160 [label=\"samples = 5\\nvalue = [5, 0]\\nclass = Yes\", fillcolor=\"#e58139\"] ;\n",
      "146 -> 160 ;\n",
      "161 [label=\"samples = 9\\nvalue = [0, 9]\\nclass = No\", fillcolor=\"#399de5\"] ;\n",
      "145 -> 161 ;\n",
      "162 [label=\"MaritalStatus_Single <= 0.5\\nsamples = 259\\nvalue = [199, 60]\\nclass = Yes\", fillcolor=\"#eda775\"] ;\n",
      "142 -> 162 ;\n",
      "163 [label=\"YearsAtCompany <= 7.5\\nsamples = 186\\nvalue = [158, 28]\\nclass = Yes\", fillcolor=\"#ea975c\"] ;\n",
      "162 -> 163 ;\n",
      "164 [label=\"HourlyRate <= 86.5\\nsamples = 110\\nvalue = [86, 24]\\nclass = Yes\", fillcolor=\"#eca470\"] ;\n",
      "163 -> 164 ;\n",
      "165 [label=\"EmployeeNumber <= 1386.0\\nsamples = 91\\nvalue = [67, 24]\\nclass = Yes\", fillcolor=\"#eeae80\"] ;\n",
      "164 -> 165 ;\n",
      "166 [label=\"(...)\", fillcolor=\"#C0C0C0\"] ;\n",
      "165 -> 166 ;\n",
      "189 [label=\"(...)\", fillcolor=\"#C0C0C0\"] ;\n",
      "165 -> 189 ;\n",
      "194 [label=\"samples = 19\\nvalue = [19, 0]\\nclass = Yes\", fillcolor=\"#e58139\"] ;\n",
      "164 -> 194 ;\n",
      "195 [label=\"DailyRate <= 757.0\\nsamples = 76\\nvalue = [72, 4]\\nclass = Yes\", fillcolor=\"#e68844\"] ;\n",
      "163 -> 195 ;\n",
      "196 [label=\"EmployeeNumber <= 1347.0\\nsamples = 39\\nvalue = [35, 4]\\nclass = Yes\", fillcolor=\"#e88f50\"] ;\n",
      "195 -> 196 ;\n",
      "197 [label=\"(...)\", fillcolor=\"#C0C0C0\"] ;\n",
      "196 -> 197 ;\n",
      "200 [label=\"(...)\", fillcolor=\"#C0C0C0\"] ;\n",
      "196 -> 200 ;\n",
      "205 [label=\"samples = 37\\nvalue = [37, 0]\\nclass = Yes\", fillcolor=\"#e58139\"] ;\n",
      "195 -> 205 ;\n",
      "206 [label=\"YearsSinceLastPromotion <= 5.5\\nsamples = 73\\nvalue = [41, 32]\\nclass = Yes\", fillcolor=\"#f9e3d4\"] ;\n",
      "162 -> 206 ;\n",
      "207 [label=\"HourlyRate <= 53.5\\nsamples = 61\\nvalue = [39, 22]\\nclass = Yes\", fillcolor=\"#f4c8a9\"] ;\n",
      "206 -> 207 ;\n",
      "208 [label=\"samples = 14\\nvalue = [14, 0]\\nclass = Yes\", fillcolor=\"#e58139\"] ;\n",
      "207 -> 208 ;\n",
      "209 [label=\"EmployeeNumber <= 1731.0\\nsamples = 47\\nvalue = [25, 22]\\nclass = Yes\", fillcolor=\"#fcf0e7\"] ;\n",
      "207 -> 209 ;\n",
      "210 [label=\"(...)\", fillcolor=\"#C0C0C0\"] ;\n",
      "209 -> 210 ;\n",
      "227 [label=\"(...)\", fillcolor=\"#C0C0C0\"] ;\n",
      "209 -> 227 ;\n",
      "228 [label=\"HourlyRate <= 86.0\\nsamples = 12\\nvalue = [2, 10]\\nclass = No\", fillcolor=\"#61b1ea\"] ;\n",
      "206 -> 228 ;\n",
      "229 [label=\"samples = 10\\nvalue = [0, 10]\\nclass = No\", fillcolor=\"#399de5\"] ;\n",
      "228 -> 229 ;\n",
      "230 [label=\"samples = 2\\nvalue = [2, 0]\\nclass = Yes\", fillcolor=\"#e58139\"] ;\n",
      "228 -> 230 ;\n",
      "}\n"
     ]
    }
   ],
   "source": [
    "!type tree2.dot"
   ]
  },
  {
   "cell_type": "code",
   "execution_count": 40,
   "metadata": {},
   "outputs": [
    {
     "name": "stdout",
     "output_type": "stream",
     "text": [
      "Accuracy: 0.7717391304347826\n"
     ]
    }
   ],
   "source": [
    "print(\"Accuracy:\", accuracy_score(y_test, y_pred))"
   ]
  },
  {
   "cell_type": "code",
   "execution_count": 41,
   "metadata": {},
   "outputs": [
    {
     "name": "stdout",
     "output_type": "stream",
     "text": [
      "Classification Report :                precision    recall  f1-score   support\n",
      "\n",
      "          No       0.89      0.84      0.87       320\n",
      "         Yes       0.22      0.29      0.25        48\n",
      "\n",
      "    accuracy                           0.77       368\n",
      "   macro avg       0.55      0.57      0.56       368\n",
      "weighted avg       0.80      0.77      0.79       368\n",
      "\n"
     ]
    }
   ],
   "source": [
    "print(\"Classification Report : \",classification_report(y_test,y_pred))"
   ]
  }
 ],
 "metadata": {
  "kernelspec": {
   "display_name": "Python 3 (ipykernel)",
   "language": "python",
   "name": "python3"
  },
  "language_info": {
   "codemirror_mode": {
    "name": "ipython",
    "version": 3
   },
   "file_extension": ".py",
   "mimetype": "text/x-python",
   "name": "python",
   "nbconvert_exporter": "python",
   "pygments_lexer": "ipython3",
   "version": "3.9.12"
  }
 },
 "nbformat": 4,
 "nbformat_minor": 2
}
